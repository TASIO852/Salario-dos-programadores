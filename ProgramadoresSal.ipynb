{
 "cells": [
  {
   "cell_type": "code",
   "execution_count": null,
   "metadata": {},
   "outputs": [],
   "source": [
    "import json\n",
    "import pandas as pd\n",
    "import numpy as np"
   ]
  },
  {
   "cell_type": "code",
   "execution_count": null,
   "metadata": {},
   "outputs": [],
   "source": [
    "with open('funcionarios.json') as file:\n",
    "    data = json.load(file)\n",
    "\n",
    "df_dados_funcionario = pd.DataFrame.from_dict(data['funcionarios'])\n",
    "df_area_funcionario = pd.DataFrame.from_dict(data['areas'])"
   ]
  },
  {
   "cell_type": "code",
   "execution_count": null,
   "metadata": {},
   "outputs": [],
   "source": [
    "# Unindo os DataFrames\n",
    "df = pd.merge(df_dados_funcionario, df_area_funcionario, left_on=\"area\", right_on=\"codigo\")"
   ]
  },
  {
   "cell_type": "code",
   "execution_count": null,
   "metadata": {},
   "outputs": [],
   "source": [
    "df"
   ]
  },
  {
   "cell_type": "code",
   "execution_count": null,
   "metadata": {},
   "outputs": [],
   "source": [
    "# Quem mais recebe na empresa\n",
    "def answer_one():\n",
    "    funcionario = df[df['salario'] == df['salario'].max()]\n",
    "    for i in funcionario.values:\n",
    "        print(f\"global_max|{i[2]} {i[4]}|{i[3]:.2f}\")\n",
    "answer_one()"
   ]
  },
  {
   "cell_type": "code",
   "execution_count": null,
   "metadata": {},
   "outputs": [],
   "source": [
    "# Quem menos recebe na empresa\n",
    "def answer_two():\n",
    "    funcionario = df[df['salario'] == df['salario'].min()]\n",
    "    for i in funcionario.values:\n",
    "        print (f\"global_min|{i[2]} {i[4]}|{i[3]:.2f}\")\n",
    "answer_two()"
   ]
  },
  {
   "cell_type": "code",
   "execution_count": null,
   "metadata": {},
   "outputs": [],
   "source": [
    "# Média salarial da empresa\n",
    "def answer_three():\n",
    "    media = df['salario'].mean()\n",
    "    print(f\"global_avg|{media:.2f}\")\n",
    "answer_three()"
   ]
  },
  {
   "cell_type": "code",
   "execution_count": null,
   "metadata": {},
   "outputs": [],
   "source": [
    "# Quem mais recebe em cada área\n",
    "def answer_four():\n",
    "    area = df.groupby('area').apply(lambda x: x[x['salario'] == x['salario'].max()])\n",
    "    for i in area.values:\n",
    "        print(f\"area_max|{i[6]}|{i[2]} {i[4]}|{i[3]:.2f}\")\n",
    "answer_four()"
   ]
  },
  {
   "cell_type": "code",
   "execution_count": null,
   "metadata": {},
   "outputs": [],
   "source": [
    "# Quem menos recebe em cada área\n",
    "def answer_five():\n",
    "    area = df.groupby('area').apply(lambda x: x[x['salario'] == x['salario'].min()])\n",
    "    for i in area.values:\n",
    "        print(f\"area_min|{i[6]}|{i[2]} {i[4]}|{i[3]:.2f}\")\n",
    "answer_five()"
   ]
  },
  {
   "cell_type": "code",
   "execution_count": null,
   "metadata": {},
   "outputs": [],
   "source": [
    "# Média salarial de cada área \n",
    "def answer_six():\n",
    "    area_media = df.groupby(['nome_y'], as_index=False)['salario'].mean().round({'salario': 2})\n",
    "    for i,item in area_media.values:\n",
    "        print(f\"area_avg|{i}|{item:.2f}\")\n",
    "answer_six()"
   ]
  },
  {
   "cell_type": "code",
   "execution_count": null,
   "metadata": {},
   "outputs": [],
   "source": [
    "# Área(s) com o maior número de funcionários\n",
    "def answer_seven():\n",
    "    funcao = ['count']\n",
    "    numero_funcionarios_area = df.groupby(['nome_y'], as_index=False)[['nome_y']].agg(funcao).apply(max,axis=1)\n",
    "    valor = numero_funcionarios_area.reset_index()\n",
    "    print(f\"most_employees|{valor.loc[0, 'nome_y']}|{valor.loc[0, 0]}\")\n",
    "answer_seven()"
   ]
  },
  {
   "cell_type": "code",
   "execution_count": null,
   "metadata": {},
   "outputs": [],
   "source": [
    "# Área(s) com o menor número de funcionários\n",
    "def answer_eight():\n",
    "    funcao = ['count']\n",
    "    numero_funcionarios_area = df.groupby(['nome_y'], as_index=False)[['nome_y']].agg(funcao).apply(min,axis=1)\n",
    "    valor = numero_funcionarios_area.reset_index()\n",
    "    print(f\"least_employees|{valor.loc[2, 'nome_y']}|{valor.loc[2, 0]}\")\n",
    "answer_eight()"
   ]
  },
  {
   "cell_type": "code",
   "execution_count": null,
   "metadata": {},
   "outputs": [],
   "source": [
    "# Maiores salários para funcionários com o mesmo sobrenome\n",
    "def answer_nine():\n",
    "    salarios = df.groupby('sobrenome').filter(lambda group: len(group) > 1).copy()\n",
    "    maiores_salarios = salarios.groupby('area').apply(lambda x: x[x['salario'] == x['salario'].max()])\n",
    "    print(f\"last_name_max|{maiores_salarios.iloc[0,4]}|{maiores_salarios.iloc[0, 2]} {maiores_salarios.iloc[0, 4]}|{maiores_salarios.iloc[0, 3]:.2f}\")\n",
    "    print(f\"last_name_max|{maiores_salarios.iloc[1,4]}|{maiores_salarios.iloc[1, 2]} {maiores_salarios.iloc[1, 4]}|{maiores_salarios.iloc[1, 3]:.2f}\")\n",
    "answer_nine()"
   ]
  }
 ],
 "metadata": {
  "kernelspec": {
   "display_name": "Python 3.10.4 64-bit",
   "language": "python",
   "name": "python3"
  },
  "language_info": {
   "codemirror_mode": {
    "name": "ipython",
    "version": 3
   },
   "file_extension": ".py",
   "mimetype": "text/x-python",
   "name": "python",
   "nbconvert_exporter": "python",
   "pygments_lexer": "ipython3",
   "version": "3.10.4"
  },
  "vscode": {
   "interpreter": {
    "hash": "369f2c481f4da34e4445cda3fffd2e751bd1c4d706f27375911949ba6bb62e1c"
   }
  }
 },
 "nbformat": 4,
 "nbformat_minor": 2
}
