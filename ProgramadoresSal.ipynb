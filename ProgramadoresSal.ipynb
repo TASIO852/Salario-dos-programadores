{
 "cells": [
  {
   "cell_type": "code",
   "execution_count": 3,
   "metadata": {},
   "outputs": [],
   "source": [
    "import json\n",
    "import pandas as pd\n",
    "import numpy as np"
   ]
  },
  {
   "cell_type": "code",
   "execution_count": 4,
   "metadata": {},
   "outputs": [],
   "source": [
    "with open('Data/funcionarios.json') as file:\n",
    "    data = json.load(file)\n",
    "\n",
    "df_dados_funcionario = pd.DataFrame.from_dict(data['funcionarios'])\n",
    "df_area_funcionario = pd.DataFrame.from_dict(data['areas'])"
   ]
  },
  {
   "cell_type": "code",
   "execution_count": 5,
   "metadata": {},
   "outputs": [],
   "source": [
    "# Unindo os DataFrames\n",
    "df = pd.merge(df_dados_funcionario, df_area_funcionario, left_on=\"area\", right_on=\"codigo\")"
   ]
  },
  {
   "cell_type": "code",
   "execution_count": 6,
   "metadata": {},
   "outputs": [
    {
     "data": {
      "text/html": [
       "<div>\n",
       "<style scoped>\n",
       "    .dataframe tbody tr th:only-of-type {\n",
       "        vertical-align: middle;\n",
       "    }\n",
       "\n",
       "    .dataframe tbody tr th {\n",
       "        vertical-align: top;\n",
       "    }\n",
       "\n",
       "    .dataframe thead th {\n",
       "        text-align: right;\n",
       "    }\n",
       "</style>\n",
       "<table border=\"1\" class=\"dataframe\">\n",
       "  <thead>\n",
       "    <tr style=\"text-align: right;\">\n",
       "      <th></th>\n",
       "      <th>id</th>\n",
       "      <th>nome_x</th>\n",
       "      <th>sobrenome</th>\n",
       "      <th>salario</th>\n",
       "      <th>area</th>\n",
       "      <th>codigo</th>\n",
       "      <th>nome_y</th>\n",
       "    </tr>\n",
       "  </thead>\n",
       "  <tbody>\n",
       "    <tr>\n",
       "      <th>0</th>\n",
       "      <td>0</td>\n",
       "      <td>Marcelo</td>\n",
       "      <td>Silva</td>\n",
       "      <td>3200.0</td>\n",
       "      <td>SM</td>\n",
       "      <td>SM</td>\n",
       "      <td>Gerenciamento de Software</td>\n",
       "    </tr>\n",
       "    <tr>\n",
       "      <th>1</th>\n",
       "      <td>3</td>\n",
       "      <td>Bernardo</td>\n",
       "      <td>Costa</td>\n",
       "      <td>3700.0</td>\n",
       "      <td>SM</td>\n",
       "      <td>SM</td>\n",
       "      <td>Gerenciamento de Software</td>\n",
       "    </tr>\n",
       "    <tr>\n",
       "      <th>2</th>\n",
       "      <td>1</td>\n",
       "      <td>Washington</td>\n",
       "      <td>Ramos</td>\n",
       "      <td>2700.0</td>\n",
       "      <td>UD</td>\n",
       "      <td>UD</td>\n",
       "      <td>Designer de UI/UX</td>\n",
       "    </tr>\n",
       "    <tr>\n",
       "      <th>3</th>\n",
       "      <td>6</td>\n",
       "      <td>LetÃ­cia</td>\n",
       "      <td>Farias</td>\n",
       "      <td>2450.0</td>\n",
       "      <td>UD</td>\n",
       "      <td>UD</td>\n",
       "      <td>Designer de UI/UX</td>\n",
       "    </tr>\n",
       "    <tr>\n",
       "      <th>4</th>\n",
       "      <td>8</td>\n",
       "      <td>Marcelo</td>\n",
       "      <td>Farias</td>\n",
       "      <td>2550.0</td>\n",
       "      <td>UD</td>\n",
       "      <td>UD</td>\n",
       "      <td>Designer de UI/UX</td>\n",
       "    </tr>\n",
       "    <tr>\n",
       "      <th>5</th>\n",
       "      <td>2</td>\n",
       "      <td>Sergio</td>\n",
       "      <td>Pinheiro</td>\n",
       "      <td>2450.0</td>\n",
       "      <td>SD</td>\n",
       "      <td>SD</td>\n",
       "      <td>Desenvolvimento de Software</td>\n",
       "    </tr>\n",
       "    <tr>\n",
       "      <th>6</th>\n",
       "      <td>4</td>\n",
       "      <td>Cleverton</td>\n",
       "      <td>Farias</td>\n",
       "      <td>2750.0</td>\n",
       "      <td>SD</td>\n",
       "      <td>SD</td>\n",
       "      <td>Desenvolvimento de Software</td>\n",
       "    </tr>\n",
       "    <tr>\n",
       "      <th>7</th>\n",
       "      <td>5</td>\n",
       "      <td>AbraÃ£o</td>\n",
       "      <td>Campos</td>\n",
       "      <td>2550.0</td>\n",
       "      <td>SD</td>\n",
       "      <td>SD</td>\n",
       "      <td>Desenvolvimento de Software</td>\n",
       "    </tr>\n",
       "    <tr>\n",
       "      <th>8</th>\n",
       "      <td>7</td>\n",
       "      <td>Fernando</td>\n",
       "      <td>Ramos</td>\n",
       "      <td>2450.0</td>\n",
       "      <td>SD</td>\n",
       "      <td>SD</td>\n",
       "      <td>Desenvolvimento de Software</td>\n",
       "    </tr>\n",
       "    <tr>\n",
       "      <th>9</th>\n",
       "      <td>9</td>\n",
       "      <td>Fabio</td>\n",
       "      <td>Souza</td>\n",
       "      <td>2750.0</td>\n",
       "      <td>SD</td>\n",
       "      <td>SD</td>\n",
       "      <td>Desenvolvimento de Software</td>\n",
       "    </tr>\n",
       "    <tr>\n",
       "      <th>10</th>\n",
       "      <td>10</td>\n",
       "      <td>Clederson</td>\n",
       "      <td>Oliveira</td>\n",
       "      <td>2500.0</td>\n",
       "      <td>SD</td>\n",
       "      <td>SD</td>\n",
       "      <td>Desenvolvimento de Software</td>\n",
       "    </tr>\n",
       "  </tbody>\n",
       "</table>\n",
       "</div>"
      ],
      "text/plain": [
       "    id      nome_x sobrenome  salario area codigo                       nome_y\n",
       "0    0     Marcelo     Silva   3200.0   SM     SM    Gerenciamento de Software\n",
       "1    3    Bernardo     Costa   3700.0   SM     SM    Gerenciamento de Software\n",
       "2    1  Washington     Ramos   2700.0   UD     UD            Designer de UI/UX\n",
       "3    6    LetÃ­cia    Farias   2450.0   UD     UD            Designer de UI/UX\n",
       "4    8     Marcelo    Farias   2550.0   UD     UD            Designer de UI/UX\n",
       "5    2      Sergio  Pinheiro   2450.0   SD     SD  Desenvolvimento de Software\n",
       "6    4   Cleverton    Farias   2750.0   SD     SD  Desenvolvimento de Software\n",
       "7    5     AbraÃ£o    Campos   2550.0   SD     SD  Desenvolvimento de Software\n",
       "8    7    Fernando     Ramos   2450.0   SD     SD  Desenvolvimento de Software\n",
       "9    9       Fabio     Souza   2750.0   SD     SD  Desenvolvimento de Software\n",
       "10  10   Clederson  Oliveira   2500.0   SD     SD  Desenvolvimento de Software"
      ]
     },
     "execution_count": 6,
     "metadata": {},
     "output_type": "execute_result"
    }
   ],
   "source": [
    "df"
   ]
  },
  {
   "cell_type": "code",
   "execution_count": 7,
   "metadata": {},
   "outputs": [
    {
     "name": "stdout",
     "output_type": "stream",
     "text": [
      "global_max|Costa SM|3700.00\n"
     ]
    }
   ],
   "source": [
    "# Quem mais recebe na empresa\n",
    "def answer_one():\n",
    "    funcionario = df[df['salario'] == df['salario'].max()]\n",
    "    for i in funcionario.values:\n",
    "        print(f\"global_max|{i[2]} {i[4]}|{i[3]:.2f}\")\n",
    "answer_one()"
   ]
  },
  {
   "cell_type": "code",
   "execution_count": 8,
   "metadata": {},
   "outputs": [
    {
     "name": "stdout",
     "output_type": "stream",
     "text": [
      "global_min|Farias UD|2450.00\n",
      "global_min|Pinheiro SD|2450.00\n",
      "global_min|Ramos SD|2450.00\n"
     ]
    }
   ],
   "source": [
    "# Quem menos recebe na empresa\n",
    "def answer_two():\n",
    "    funcionario = df[df['salario'] == df['salario'].min()]\n",
    "    for i in funcionario.values:\n",
    "        print (f\"global_min|{i[2]} {i[4]}|{i[3]:.2f}\")\n",
    "answer_two()"
   ]
  },
  {
   "cell_type": "code",
   "execution_count": 9,
   "metadata": {},
   "outputs": [
    {
     "name": "stdout",
     "output_type": "stream",
     "text": [
      "global_avg|2731.82\n"
     ]
    }
   ],
   "source": [
    "# Média salarial da empresa\n",
    "def answer_three():\n",
    "    media = df['salario'].mean()\n",
    "    print(f\"global_avg|{media:.2f}\")\n",
    "answer_three()"
   ]
  },
  {
   "cell_type": "code",
   "execution_count": 10,
   "metadata": {},
   "outputs": [
    {
     "name": "stdout",
     "output_type": "stream",
     "text": [
      "area_max|Desenvolvimento de Software|Farias SD|2750.00\n",
      "area_max|Desenvolvimento de Software|Souza SD|2750.00\n",
      "area_max|Gerenciamento de Software|Costa SM|3700.00\n",
      "area_max|Designer de UI/UX|Ramos UD|2700.00\n"
     ]
    }
   ],
   "source": [
    "# Quem mais recebe em cada área\n",
    "def answer_four():\n",
    "    area = df.groupby('area').apply(lambda x: x[x['salario'] == x['salario'].max()])\n",
    "    for i in area.values:\n",
    "        print(f\"area_max|{i[6]}|{i[2]} {i[4]}|{i[3]:.2f}\")\n",
    "answer_four()"
   ]
  },
  {
   "cell_type": "code",
   "execution_count": 11,
   "metadata": {},
   "outputs": [
    {
     "name": "stdout",
     "output_type": "stream",
     "text": [
      "area_min|Desenvolvimento de Software|Pinheiro SD|2450.00\n",
      "area_min|Desenvolvimento de Software|Ramos SD|2450.00\n",
      "area_min|Gerenciamento de Software|Silva SM|3200.00\n",
      "area_min|Designer de UI/UX|Farias UD|2450.00\n"
     ]
    }
   ],
   "source": [
    "# Quem menos recebe em cada área\n",
    "def answer_five():\n",
    "    area = df.groupby('area').apply(lambda x: x[x['salario'] == x['salario'].min()])\n",
    "    for i in area.values:\n",
    "        print(f\"area_min|{i[6]}|{i[2]} {i[4]}|{i[3]:.2f}\")\n",
    "answer_five()"
   ]
  },
  {
   "cell_type": "code",
   "execution_count": 12,
   "metadata": {},
   "outputs": [
    {
     "name": "stdout",
     "output_type": "stream",
     "text": [
      "area_avg|Desenvolvimento de Software|2575.00\n",
      "area_avg|Designer de UI/UX|2566.67\n",
      "area_avg|Gerenciamento de Software|3450.00\n"
     ]
    }
   ],
   "source": [
    "# Média salarial de cada área \n",
    "def answer_six():\n",
    "    area_media = df.groupby(['nome_y'], as_index=False)['salario'].mean().round({'salario': 2})\n",
    "    for i,item in area_media.values:\n",
    "        print(f\"area_avg|{i}|{item:.2f}\")\n",
    "answer_six()"
   ]
  },
  {
   "cell_type": "code",
   "execution_count": 13,
   "metadata": {},
   "outputs": [
    {
     "name": "stdout",
     "output_type": "stream",
     "text": [
      "most_employees|Desenvolvimento de Software|6\n"
     ]
    }
   ],
   "source": [
    "# Área(s) com o maior número de funcionários\n",
    "def answer_seven():\n",
    "    funcao = ['count']\n",
    "    numero_funcionarios_area = df.groupby(['nome_y'], as_index=False)[['nome_y']].agg(funcao).apply(max,axis=1)\n",
    "    valor = numero_funcionarios_area.reset_index()\n",
    "    print(f\"most_employees|{valor.loc[0, 'nome_y']}|{valor.loc[0, 0]}\")\n",
    "answer_seven()"
   ]
  },
  {
   "cell_type": "code",
   "execution_count": 14,
   "metadata": {},
   "outputs": [
    {
     "name": "stdout",
     "output_type": "stream",
     "text": [
      "least_employees|Gerenciamento de Software|2\n"
     ]
    }
   ],
   "source": [
    "# Área(s) com o menor número de funcionários\n",
    "def answer_eight():\n",
    "    funcao = ['count']\n",
    "    numero_funcionarios_area = df.groupby(['nome_y'], as_index=False)[['nome_y']].agg(funcao).apply(min,axis=1)\n",
    "    valor = numero_funcionarios_area.reset_index()\n",
    "    print(f\"least_employees|{valor.loc[2, 'nome_y']}|{valor.loc[2, 0]}\")\n",
    "answer_eight()"
   ]
  },
  {
   "cell_type": "code",
   "execution_count": 15,
   "metadata": {},
   "outputs": [
    {
     "name": "stdout",
     "output_type": "stream",
     "text": [
      "last_name_max|SD|Farias SD|2750.00\n",
      "last_name_max|UD|Ramos UD|2700.00\n"
     ]
    }
   ],
   "source": [
    "# Maiores salários para funcionários com o mesmo sobrenome\n",
    "def answer_nine():\n",
    "    salarios = df.groupby('sobrenome').filter(lambda group: len(group) > 1).copy()\n",
    "    maiores_salarios = salarios.groupby('area').apply(lambda x: x[x['salario'] == x['salario'].max()])\n",
    "    print(f\"last_name_max|{maiores_salarios.iloc[0,4]}|{maiores_salarios.iloc[0, 2]} {maiores_salarios.iloc[0, 4]}|{maiores_salarios.iloc[0, 3]:.2f}\")\n",
    "    print(f\"last_name_max|{maiores_salarios.iloc[1,4]}|{maiores_salarios.iloc[1, 2]} {maiores_salarios.iloc[1, 4]}|{maiores_salarios.iloc[1, 3]:.2f}\")\n",
    "answer_nine()"
   ]
  }
 ],
 "metadata": {
  "kernelspec": {
   "display_name": "Python 3.10.4 64-bit",
   "language": "python",
   "name": "python3"
  },
  "language_info": {
   "codemirror_mode": {
    "name": "ipython",
    "version": 3
   },
   "file_extension": ".py",
   "mimetype": "text/x-python",
   "name": "python",
   "nbconvert_exporter": "python",
   "pygments_lexer": "ipython3",
   "version": "3.11.2"
  },
  "vscode": {
   "interpreter": {
    "hash": "369f2c481f4da34e4445cda3fffd2e751bd1c4d706f27375911949ba6bb62e1c"
   }
  }
 },
 "nbformat": 4,
 "nbformat_minor": 2
}
